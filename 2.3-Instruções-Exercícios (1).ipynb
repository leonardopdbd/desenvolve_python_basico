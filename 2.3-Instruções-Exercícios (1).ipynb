{
  "metadata": {
    "kernelspec": {
      "name": "python",
      "display_name": "Python (Pyodide)",
      "language": "python"
    },
    "language_info": {
      "name": "python"
    },
    "colab": {
      "provenance": []
    }
  },
  "nbformat_minor": 4,
  "nbformat": 4,
  "cells": [
    {
      "cell_type": "markdown",
      "source": "# Módulo 2\n\n## 2.3 Instruções e Expressões\n\n### Q1\n\nFaça um programa que armazene o valor de 20 reais de salário por hora de um trabalhador, e o número de 40 horas trabalhadas na semana. Com essas informações, calcule e imprima:\n- Salário semanal bruto\n- Valor descontado por semana INSS (10% do bruto)\n- Valor descontado por semana pelo sindicato (5% do bruto)\n- Salário semanal líquido (Bruto - Descontos)",
      "metadata": {
        "id": "1pCTdOHonv5f"
      }
    },
    {
      "cell_type": "code",
      "source": "# Constantes\nsalario_por_hora = 20.0\nhoras_trabalhadas_por_semana = 40\n\n# Cálculos\nsalario_semanal_bruto = salario_por_hora * horas_trabalhadas_por_semana\ndesconto_inss = salario_semanal_bruto * 0.10\ndesconto_sindicato = salario_semanal_bruto * 0.05\nsalario_semanal_liquido = salario_semanal_bruto - desconto_inss - desconto_sindicato\n\n# Resultados\nprint(f\"Salário semanal bruto: R${salario_semanal_bruto:.2f}\")\nprint(f\"Valor descontado por semana INSS: R${desconto_inss:.2f}\")\nprint(f\"Valor descontado por semana pelo sindicato: R${desconto_sindicato:.2f}\")\nprint(f\"Salário semanal líquido: R${salario_semanal_liquido:.2f}\")\n",
      "metadata": {
        "id": "hVbX0I97nj6M",
        "trusted": true
      },
      "outputs": [],
      "execution_count": null
    },
    {
      "cell_type": "markdown",
      "source": "### Q2\n\nAltere o programa anterior para a partir dos valores de horas trabalhadas por semana e salário por hora, calcular **em somente duas instruções**:\n- Salário semanal bruto\n- Salário semanal líquido com todos os descontos. Para a segunda instrução, realize todos os cálculos aritméticos em uma expressão composta.\n",
      "metadata": {
        "id": "pIxKX9J2oGZ1"
      }
    },
    {
      "cell_type": "code",
      "source": "# Constantes\nsalario_por_hora = 20.0\nhoras_trabalhadas_por_semana = 40\n\n# Cálculos\nsalario_semanal_bruto = salario_por_hora * horas_trabalhadas_por_semana\nsalario_semanal_liquido = salario_semanal_bruto * (1 - 0.10 - 0.05)\n\n# Resultados\nprint(f\"Salário semanal bruto: R${salario_semanal_bruto:.2f}\")\nprint(f\"Salário semanal líquido: R${salario_semanal_liquido:.2f}\")\n",
      "metadata": {
        "id": "pAHw9Xf9oGoi"
      },
      "outputs": [],
      "execution_count": null
    },
    {
      "cell_type": "markdown",
      "source": "### Q3\n\nVocê está desenvolvendo um software de conversão de moeda e precisa calcular o valor equivalente em yuan chinês a partir de uma quantia em real. A taxa de câmbio é de 0.69 BRL (real) para 1 CNY (yuan). Escreva um programa que define em uma variável uma quantia em reais (BRL) e calcula o valor equivalente em yuan (CNY). Imprima o resultado.",
      "metadata": {
        "id": "m8tlHRuWpBOB"
      }
    },
    {
      "cell_type": "code",
      "source": "# Constante de taxa de câmbio\ntaxa_cambio_brl_para_cny = 1 / 0.69\n\n# Quantia em reais\nquantia_em_reais = 100.0  # Você pode alterar este valor conforme necessário\n\n# Cálculo do valor equivalente em yuan\nvalor_em_yuan = quantia_em_reais * taxa_cambio_brl_para_cny\n\n# Resultado\nprint(f\"{quantia_em_reais:.2f} BRL é equivalente a {valor_em_yuan:.2f} CNY\")\n",
      "metadata": {
        "id": "2bPw7uF6oeL9"
      },
      "outputs": [],
      "execution_count": null
    },
    {
      "cell_type": "markdown",
      "source": "### Q4\n\nVocê é um treinador de corrida e deseja calcular a velocidade média que um atleta precisa manter para completar a Maratona Internacional de São Silvestre, que tem uma distância total de 42.195 km. A fórmula para calcular a velocidade média ($v\\_media$) é dada por $v\\_media = \\frac{distancia}{tempo}$ . Escreva um programa em Python para calcular a velocidade média necessária para completar a maratona em 3 horas.\n\n**Calcule e imprima o resultado em metros/segundo**, ou seja, converta a distância de quilômetros para metros ($metro = \\frac{km}{1000}$) e a velocidade de horas para segundos $(segundo = \\frac{hora}{3600})$.",
      "metadata": {
        "id": "-Na3ltDCp74A"
      }
    },
    {
      "cell_type": "code",
      "source": "# Constantes\ndistancia_km = 42.195  # Distância total da maratona em quilômetros\ntempo_horas = 3  # Tempo em horas\n\n# Conversão de unidades\ndistancia_metros = distancia_km * 1000  # Converte a distância de quilômetros para metros\ntempo_segundos = tempo_horas * 3600  # Converte o tempo de horas para segundos\n\n# Cálculo da velocidade média\nvelocidade_media_m_s = distancia_metros / tempo_segundos\n\n# Resultado\nprint(f\"A velocidade média necessária para completar a maratona em 3 horas é {velocidade_media_m_s:.2f} metros por segundo (m/s).\")\n",
      "metadata": {
        "id": "Bn6l8kcSrE4L"
      },
      "outputs": [],
      "execution_count": null
    }
  ]
}