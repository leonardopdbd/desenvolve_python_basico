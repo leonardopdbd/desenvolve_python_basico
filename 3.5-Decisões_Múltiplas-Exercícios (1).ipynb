{
  "metadata": {
    "kernelspec": {
      "name": "python",
      "display_name": "Python (Pyodide)",
      "language": "python"
    },
    "language_info": {
      "codemirror_mode": {
        "name": "ipython",
        "version": 3
      },
      "file_extension": ".py",
      "mimetype": "text/x-python",
      "name": "python",
      "nbconvert_exporter": "python",
      "pygments_lexer": "ipython3",
      "version": "3.9.6"
    }
  },
  "nbformat_minor": 5,
  "nbformat": 4,
  "cells": [
    {
      "id": "559687a1",
      "cell_type": "markdown",
      "source": "# Módulo 3 - Condicionais\n\n## 3.5 - Decisões Múltiplas",
      "metadata": {}
    },
    {
      "id": "42f823b3",
      "cell_type": "markdown",
      "source": "### Q1.\n\nVamos fazer uma calculadora! Escreva um programa que solicita 3 entradas: o primeiro operando (float), o operador (caracter) e o segundo operando (float). Seu programa deve imprimir o resultado da operação solicitada, entre soma (+), subtração (-), divisão (/), multiplicação (\\*) ou potência (\\*\\*). Seu programa também deve imprimir uma mensagem de erro se a operação solicitada não estiver dentre as opções disponíveis.\n\nSeguem alguns exemplos de interação com seu código no terminal. \n\n\n```\nDigite o primeiro operando: 5.2\nDigite o operador (+, -, /, *, **): *\nDigite o segundo operando` 3\nResultado: 5.2 * 3.0 = 15.6\n```\n\n```\nDigite o primeiro operando: 8\nDigite o operador (+, -, /, *, **): **\nDigite o segundo operando: 2\nResultado: 8.0 * 2.0 = 64.0\n```\n\n```\nDigite o primeiro operando: 7\nDigite o operador (+, -, /, *, **): %\nDigite o segundo operando: 3.4\nErro! Operação inválida. \n```\n\n```\nDigite o primeiro operando: 10\nDigite o operador (+, -, /, *, **): /\nDigite o segundo operando: 2.5\nResultado: 10.0 / 2.5 = 4.0\n```\n\n",
      "metadata": {}
    },
    {
      "id": "c5b8cd4d",
      "cell_type": "code",
      "source": "# Solicita o primeiro operando\nprimeiro_operando = float(input(\"Digite o primeiro operando: \"))\n\n# Solicita o operador\noperador = input(\"Digite o operador (+, -, /, *, **): \")\n\n# Solicita o segundo operando\nsegundo_operando = float(input(\"Digite o segundo operando: \"))\n\n# Inicializa a variável para o resultado\nresultado = None\n\n# Verifica qual operação realizar\nif operador == \"+\":\n    resultado = primeiro_operando + segundo_operando\nelif operador == \"-\":\n    resultado = primeiro_operando - segundo_operando\nelif operador == \"*\":\n    resultado = primeiro_operando * segundo_operando\nelif operador == \"/\":\n    if segundo_operando != 0:\n        resultado = primeiro_operando / segundo_operando\n    else:\n        print(\"Erro! Divisão por zero.\")\n        exit()\nelif operador == \"**\":\n    resultado = primeiro_operando ** segundo_operando\nelse:\n    print(\"Erro! Operação inválida.\")\n    exit()\n\n# Imprime o resultado\nprint(f\"Resultado: {primeiro_operando} {operador} {segundo_operando} = {resultado}\")\n\n",
      "metadata": {},
      "outputs": [],
      "execution_count": null
    },
    {
      "id": "d135df39",
      "cell_type": "markdown",
      "source": "### Q2.\n\nEscreva um programa que leia os comprimentos dos 3 lados de um triângulo e diga se o triângulo é equilátero, isóceles ou escaleno. Regras:\n- Isóceles: Quaisquer dois lados com o mesmo comprimento\n- Equilátero: Os três lados tem o mesmo comprimento\n- Escaleno: Três lados de comprimento diferente \n\nNote que a ordem das condições importa! Seguem alguns exemplos de interação com seu código no terminal. \n\n```\nDigite o comprimento do lado 1: 4\nDigite o comprimento do lado 2: 4\nDigite o comprimento do lado 3: 6\nTriângulo: Isóceles\n```\n\n```\nDigite o comprimento do lado 1: 5\nDigite o comprimento do lado 2: 5\nDigite o comprimento do lado 3: 5\nTriângulo: Equilátero\n```\n\n```\nDigite o comprimento do lado 1: 7\nDigite o comprimento do lado 2: 4\nDigite o comprimento do lado 3: 9\nTriângulo: Escaleno\n```\n\n",
      "metadata": {}
    },
    {
      "id": "cfcf9a80",
      "cell_type": "code",
      "source": "# Solicita o comprimento dos lados do triângulo\nlado1 = float(input(\"Digite o comprimento do lado 1: \"))\nlado2 = float(input(\"Digite o comprimento do lado 2: \"))\nlado3 = float(input(\"Digite o comprimento do lado 3: \"))\n\n# Verifica o tipo de triângulo\nif lado1 == lado2 == lado3:\n    tipo_triangulo = \"Equilátero\"\nelif lado1 == lado2 or lado1 == lado3 or lado2 == lado3:\n    tipo_triangulo = \"Isósceles\"\nelse:\n    tipo_triangulo = \"Escaleno\"\n\n# Imprime o resultado\nprint(f\"Triângulo: {tipo_triangulo}\")\n\n",
      "metadata": {},
      "outputs": [],
      "execution_count": null
    },
    {
      "id": "ed3405fb",
      "cell_type": "markdown",
      "source": "### Q3.\n\nVocê está desenvolvendo um sistema de avaliação de desempenho para um jogo. Escreva um programa em Python que avalia a pontuação do jogador em uma missão e atribui uma classificação com base nas seguintes condições:\n\n- Se a pontuação for menor que 70, atribua a classificação \"Insatisfatório\".\n- Se a pontuação for maior ou igual a 70, atribua a classificação \"Regular\".\n- Se a pontuação for maior ou igual a 80, atribua a classificação \"Bom\".\n- Se a pontuação for maior ou igual a 90, atribua a classificação \"Excelente\".\n\nEscreva um programa que solicita ao usuário a pontuação e imprime a classificação correspondente.",
      "metadata": {}
    },
    {
      "id": "a7a842ae",
      "cell_type": "code",
      "source": "# Solicita a pontuação do jogador\npontuacao = float(input(\"Digite a pontuação do jogador: \"))\n\n# Avalia a classificação com base na pontuação\nif pontuacao < 70:\n    classificacao = \"Insatisfatório\"\nelif pontuacao >= 90:\n    classificacao = \"Excelente\"\nelif pontuacao >= 80:\n    classificacao = \"Bom\"\nelse:  # Se não for menor que 70, nem maior que 80 ou 90, é regular\n    classificacao = \"Regular\"\n\n# Imprime a classificação correspondente\nprint(f\"Classificação: {classificacao}\")\n\n",
      "metadata": {},
      "outputs": [],
      "execution_count": null
    },
    {
      "id": "6cafaa50",
      "cell_type": "markdown",
      "source": "### Q4.\n\nVocê está implementando um sistema de desconto em uma loja online. Escreva um programa em Python que calcula o desconto com base no valor total da compra e atribui diferentes níveis de desconto de acordo com as seguintes condições:\n\n- Se o valor total da compra for menor que R\\$ 50, não há desconto.\n- Se o valor total da compra for maior ou igual a R\\$ 50, atribua um desconto de 10%.\n- Se o valor total da compra for maior ou igual a R\\$ 100, atribua um desconto de 20%.\n\n\nSeguem alguns exemplos de interação com seu código no terminal. Preste atenção na formatação esperada para as saídas.\n\n```\nDigite o valor total da compra: 120\nDesconto aplicado: 20.0%\nValor final com desconto: R$96.00\n```\n\n```\nDigite o valor total da compra: 65\nDesconto aplicado: 10.0%\nValor final com desconto: R$58.50\n```\n\n```\nDigite o valor total da compra: 40\nDesconto aplicado: 0.0%\nValor final com desconto: R$40.00\n```\n\n\n",
      "metadata": {}
    },
    {
      "id": "3b1b1929",
      "cell_type": "code",
      "source": "# Solicita o valor total da compra\nvalor_compra = float(input(\"Digite o valor total da compra: \"))\n\n# Inicializa variáveis para o desconto e valor final\ndesconto = 0.0\n\n# Avalia o valor da compra e define o desconto\nif valor_compra >= 100:\n    desconto = 20.0\nelif valor_compra >= 50:\n    desconto = 10.0\n\n# Calcula o valor final após o desconto\nvalor_final = valor_compra * (1 - desconto / 100)\n\n# Imprime os resultados\nprint(f\"Desconto aplicado: {desconto:.1f}%\")\nprint(f\"Valor final com desconto: R${valor_final:.2f}\")\n",
      "metadata": {},
      "outputs": [],
      "execution_count": null
    },
    {
      "id": "dc5db6d7",
      "cell_type": "markdown",
      "source": "### Q5.\n\nVocê está projetando um sistema de autenticação baseado na análise da íris (parte colorida do olho). Ao acionado, o sistema coleta e retorna 3 valores inteiros referentes a atributos da íris visível. Mas o sistema não é perfeito, tendo uma margem de erro do sensor de +/- $5$. \n\nO código abaixo tem os atributos dos 4 usuários cadastrados no sistema. Você deve completar om código, pedindo ao usuário para inserir uma nova leitura de padrão de íris. O programa deve comparar o padrão inserido com os padrões cadastrados no banco de dados. Se o padrão estiver dentro da tolerância estabelecida, o usuário é autenticado com sucesso. Caso contrário, a autenticação falha.\n\n**Dica:** A função do python ```abs()``` retorna o valor absoluto de um elemento. Ex: \n```\n>>> print(abs(987-982))\n5\n>>> print(abs(987-992))\n5\n```\n\nSeguem alguns exemplos de interação com seu código no terminal.\n\n```\nInsira o padrão de íris para autenticação.\nAtributo 1: 111\nAtributo 2: 222\nAtributo 3: 333\nAutenticação bem-sucedida! \nUsuário: 3\n```\n\n```\nInsira o padrão de íris para autenticação.\nAtributo 1: 111\nAtributo 2: 200\nAtributo 3: 333\nAutenticação falhou! \n```\n\n```\nInsira o padrão de íris para autenticação.\nAtributo 1: 982\nAtributo 2: 653\nAtributo 3: 324\nAutenticação bem-sucedida! \nUsuário: 2\n```",
      "metadata": {}
    },
    {
      "id": "b90304eb",
      "cell_type": "code",
      "source": "## Não altere os atributos definidos a seguir\niris1_a1, iris1_a2, iris1_a3 = 123, 456, 789\niris2_a1, iris2_a2, iris2_a3 = 987, 654, 321\niris3_a1, iris3_a2, iris3_a3 = 111, 222, 333\niris4_a1, iris4_a2, iris4_a3 = 444, 555, 666\n\n# Definindo os atributos dos usuários\niris1_a1, iris1_a2, iris1_a3 = 123, 456, 789\niris2_a1, iris2_a2, iris2_a3 = 987, 654, 321\niris3_a1, iris3_a2, iris3_a3 = 111, 222, 333\niris4_a1, iris4_a2, iris4_a3 = 444, 555, 666\n\n# Armazenando os padrões de íris em uma lista\nusuarios = [\n    (iris1_a1, iris1_a2, iris1_a3),\n    (iris2_a1, iris2_a2, iris2_a3),\n    (iris3_a1, iris3_a2, iris3_a3),\n    (iris4_a1, iris4_a2, iris4_a3)\n]\n\n# Definindo a tolerância\ntolerancia = 5\n\n# Função para autenticar o usuário\ndef autenticar(padrao):\n    for idx, (a1, a2, a3) in enumerate(usuarios):\n        if (abs(a1 - padrao[0]) <= tolerancia and\n            abs(a2 - padrao[1]) <= tolerancia and\n            abs(a3 - padrao[2]) <= tolerancia):\n            return idx + 1  # Retorna o número do usuário (1 a 4)\n    return None  # Retorna None se não autenticar\n\n# Solicitando a leitura do padrão de íris\nprint(\"Insira o padrão de íris para autenticação.\")\natributo1 = int(input(\"Atributo 1: \"))\natributo2 = int(input(\"Atributo 2: \"))\natributo3 = int(input(\"Atributo 3: \"))\n\n# Autenticação\nresultado = autenticar((atributo1, atributo2, atributo3))\n\n# Verificando o resultado da autenticação\nif resultado:\n    print(\"Autenticação bem-sucedida!\")\n    print(f\"Usuário: {resultado}\")\nelse:\n    print(\"Autenticação falhou!\")\n",
      "metadata": {},
      "outputs": [],
      "execution_count": 1
    }
  ]
}