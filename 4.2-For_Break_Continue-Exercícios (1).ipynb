{
  "metadata": {
    "kernelspec": {
      "name": "python",
      "display_name": "Python (Pyodide)",
      "language": "python"
    },
    "language_info": {
      "codemirror_mode": {
        "name": "python",
        "version": 3
      },
      "file_extension": ".py",
      "mimetype": "text/x-python",
      "name": "python",
      "nbconvert_exporter": "python",
      "pygments_lexer": "ipython3",
      "version": "3.8"
    }
  },
  "nbformat_minor": 5,
  "nbformat": 4,
  "cells": [
    {
      "id": "29e89030",
      "cell_type": "markdown",
      "source": "# Módulo 4 - Repetições\n\n## Aulas 4.2 - Comando ```for``` e 4.3 Break e Continue",
      "metadata": {}
    },
    {
      "id": "a45b42df",
      "cell_type": "markdown",
      "source": "### Q1.\n\nCrie um programa em Python que utilize o comando for para imprimir os números de 10 a 1, em ordem decrescente.",
      "metadata": {}
    },
    {
      "id": "55a75b3d",
      "cell_type": "code",
      "source": "# Usa um loop for para iterar de 10 a 1 em ordem decrescente\nfor numero in range(10, 0, -1):\n    print(numero)\n\n",
      "metadata": {},
      "outputs": [],
      "execution_count": null
    },
    {
      "id": "94b47c36",
      "cell_type": "markdown",
      "source": "### Q2.\n\nDado um número inteiro positivo informado pelo usuário, crie um programa em Python que utilize o comando for para calcular e exibir a soma dos números de 1 até o número informado. Ou seja, $1 + 2 + 3 + ... + n$\n\nExemplo de interação:\n```\nDigite um número: 5\nA soma dos números de 1 a 5 é 15\n```\n",
      "metadata": {}
    },
    {
      "id": "45b71596",
      "cell_type": "code",
      "source": "# Solicita ao usuário para digitar um número inteiro positivo\nnumero = int(input(\"Digite um número: \"))\n\n# Inicializa a variável para armazenar a soma\nsoma = 0\n\n# Usa um loop for para calcular a soma dos números de 1 até o número informado\nfor i in range(1, numero + 1):\n    soma += i\n\n# Exibe o resultado\nprint(f\"A soma dos números de 1 a {numero} é {soma}\")\n\n",
      "metadata": {},
      "outputs": [],
      "execution_count": null
    },
    {
      "id": "0411d170",
      "cell_type": "markdown",
      "source": "### Q3.\n\nEscreva um programa que lê 10 valores inteiros positivos do usuário e ao final imprime a média dos valores digitados com duas casas decimais.\n\n```\nDigite 10 números positivos:\n3\n2\n12\n14\n20\n42\n19\n0\n8\n1\nA média dos valores digitados é 12.10\n```",
      "metadata": {}
    },
    {
      "id": "3f72f358",
      "cell_type": "code",
      "source": "# Inicializa uma lista para armazenar os valores\nvalores = []\n\n# Solicita ao usuário que digite 10 valores inteiros positivos\nprint(\"Digite 10 números positivos:\")\n\nfor i in range(10):\n    while True:\n        valor = int(input(f\"Número {i + 1}: \"))\n        if valor >= 0:\n            valores.append(valor)\n            break\n        else:\n            print(\"Por favor, digite um número positivo.\")\n\n# Calcula a média dos valores digitados\nmedia = sum(valores) / len(valores)\n\n# Imprime a média com duas casas decimais\nprint(f\"A média dos valores digitados é {media:.2f}\")\n\n",
      "metadata": {},
      "outputs": [],
      "execution_count": null
    },
    {
      "id": "d62e27ff",
      "cell_type": "markdown",
      "source": "### Q4.\n\nVocê vai criar um sistema que registra os resultados dos jogos do Atlético MG ao longo de um campeonato. Seu sistema vai receber os resultados de todos os jogos do Galo, e deve calcular a pontuação do time sabendo que vitórias valem 3 pontos, empates 1 ponto e derrotas 0 pontos.\n\nEntrada: <br>\nA primeira linha de entrada é um inteiro N com a quantidade jogos do galo. Para cada jogo você deve ler 2 inteiros, o primeiro com a quantidade de gols do galo e o segundo com a quantidade de gols do time oponente. \n\nSaída: <br>\nApresente a soma de vitórias, empates e derrotas do galo, junto com o cálculo da pontuação total.\n\nEx:\n```\nEntrada:\n4\n2\n0\n1\n1\n0\n3\n1\n0\n\nSaída:\nVitórias: 2\nEmpates: 1\nDerrotas: 1\nPontuação: 7\n\n```\n\n\n",
      "metadata": {}
    },
    {
      "id": "d3fdfc2a",
      "cell_type": "code",
      "source": "# Solicita a quantidade de jogos\nN = int(input(\"Digite a quantidade de jogos do Galo: \"))\n\n# Inicializa variáveis para contar vitórias, empates e derrotas\nvitorias = 0\nempates = 0\nderrotas = 0\n\n# Processa os resultados de cada jogo\nfor i in range(N):\n    # Lê os gols do Galo e do oponente\n    gols_galo = int(input(f\"Digite a quantidade de gols do Galo no jogo {i + 1}: \"))\n    gols_oponente = int(input(f\"Digite a quantidade de gols do oponente no jogo {i + 1}: \"))\n    \n    # Determina o resultado do jogo e atualiza os contadores\n    if gols_galo > gols_oponente:\n        vitorias += 1\n    elif gols_galo == gols_oponente:\n        empates += 1\n    else:\n        derrotas += 1\n\n# Calcula a pontuação total\npontuacao_total = (vitorias * 3) + (empates * 1) + (derrotas * 0)\n\n# Exibe os resultados\nprint(f\"Vitórias: {vitorias}\")\nprint(f\"Empates: {empates}\")\nprint(f\"Derrotas: {derrotas}\")\nprint(f\"Pontuação: {pontuacao_total}\")\n\n",
      "metadata": {},
      "outputs": [],
      "execution_count": null
    },
    {
      "id": "fc98604d",
      "cell_type": "markdown",
      "source": "### Q5.\n\nFaça um programa que lê dois inteiros N e M, e imprime na tela um campo de batalha naval. O tabuleiro deve possuir N linhas e M colunas. A primeira linha é composta por um espaço em branco e o cabeçalho das colunas, ou seja, valores de 1 a M. As N linhas seguintes iniciam com o cabeçalho da linha, ou seja, seu número, seguido de M caracteres \"/\" (barra) indicando uma possível posição jogável. \n\n```\nEntrada:\n5\n4\n\nSaída:\n  1 2 3 4 \n1 / / / / \n2 / / / / \n3 / / / / \n4 / / / / \n5 / / / / \n```\n\nPara esse exercício, precisamos lembrar que o comando print implicitamente adiciona uma quebra de linha ao final da impressão. Podemos interferir no final da impressão adicionando mais uma entrada ao print. No exemplo, finalizamos cada linha com um espaço em branco:\n```python\nprint(\"Texto qualquer\", end = \" \")\n```",
      "metadata": {}
    },
    {
      "id": "a60ef197",
      "cell_type": "code",
      "source": "# Solicita os valores de N (linhas) e M (colunas)\nN = int(input(\"Digite o número de linhas (N): \"))\nM = int(input(\"Digite o número de colunas (M): \"))\n\n# Imprime o cabeçalho das colunas\nprint(\" \", end=\" \")\nfor coluna in range(1, M + 1):\n    print(coluna, end=\" \")\nprint()  # Nova linha após o cabeçalho das colunas\n\n# Imprime o tabuleiro com N linhas e M colunas\nfor linha in range(1, N + 1):\n    print(linha, end=\" \")  # Imprime o número da linha\n    for coluna in range(1, M + 1):\n        print(\"/\", end=\" \")\n    print()  # Nova linha após cada linha do tabuleiro\n",
      "metadata": {},
      "outputs": [],
      "execution_count": null
    },
    {
      "id": "4654dc0b",
      "cell_type": "markdown",
      "source": "---\n## Break e Continue",
      "metadata": {}
    },
    {
      "id": "24fe9d85",
      "cell_type": "markdown",
      "source": "### Q6.\n\nEscreva um programa que lê uma quantidade indefinida de valores e informa o maior e o menor valor digitados. A leitura é encerrada quando o usuário digitar o valor 0 (zero).\n\n```\nEntrada:\n12\n-1\n29\n11\n-5\n0\n\nSaída:\nMaior: 29\nMenor: -5\n```",
      "metadata": {}
    },
    {
      "id": "ee1c466a",
      "cell_type": "code",
      "source": "# Inicializa as variáveis para armazenar o maior e menor valores\nmaximo = None\nminimo = None\n\n# Loop para ler valores até encontrar 0\nwhile True:\n    valor = int(input(\"Digite um valor (digite 0 para encerrar): \"))\n    \n    # Verifica se o valor é 0 para encerrar o loop\n    if valor == 0:\n        break\n    \n    # Atualiza o máximo e mínimo\n    if maximo is None or valor > maximo:\n        maximo = valor\n    if minimo is None or valor < minimo:\n        minimo = valor\n\n# Verifica se foram digitados valores para imprimir o resultado\nif maximo is not None and minimo is not None:\n    print(f\"Maior: {maximo}\")\n    print(f\"Menor: {minimo}\")\nelse:\n    print(\"Nenhum valor válido foi digitado.\")\n",
      "metadata": {},
      "outputs": [],
      "execution_count": null
    },
    {
      "id": "30d486f7",
      "cell_type": "markdown",
      "source": "### Q7.\n\nEscreva um programa que lê uma quantidade indefinida de valores e informa o **produto** dos valores positivos digitados. A leitura é encerrada quando o usuário digitar o valor 0 (zero).\n\n```\nEntrada:\n2\n-1\n1\n3\n-5\n0\n\nSaída:\nProduto: 6\n```",
      "metadata": {}
    },
    {
      "id": "2f1ac324",
      "cell_type": "code",
      "source": "# Inicializa o produto como 1\nproduto = 1\n\n# Loop para ler valores até encontrar 0\nwhile True:\n    valor = int(input(\"Digite um valor (digite 0 para encerrar): \"))\n    \n    # Verifica se o valor é 0 para encerrar o loop\n    if valor == 0:\n        break\n    \n    # Verifica se o valor é positivo para multiplicar ao produto\n    if valor > 0:\n        produto *= valor\n\n# Imprime o produto dos valores positivos digitados\nprint(f\"Produto: {produto}\")\n",
      "metadata": {},
      "outputs": [],
      "execution_count": null
    },
    {
      "id": "e932f3cf",
      "cell_type": "markdown",
      "source": "### Q8.\n\nVamos fazer uma calculadora que aceita expressões aritméticas de qualquer tamanho até que o usuário digite a palavra \"Fim\". Sua calculadora executa apenas as operações \"+\", \"-\".\n\n```\nEntrada:\n5\n+\n8\n-\n3\n+\n2\nFim\n\nSaída:\n12\n```",
      "metadata": {}
    },
    {
      "id": "e835d870",
      "cell_type": "code",
      "source": "# Função para calcular o resultado da expressão\ndef calcular(expressao):\n    resultado = 0\n    operador = '+'\n    numero = 0\n    for token in expressao:\n        if token.isdigit():\n            numero = int(token)\n            if operador == '+':\n                resultado += numero\n            elif operador == '-':\n                resultado -= numero\n        elif token == '+':\n            operador = '+'\n        elif token == '-':\n            operador = '-'\n    return resultado\n\n# Inicializa a lista para armazenar os tokens da expressão\nexpressao = []\n\n# Loop para ler valores até encontrar \"Fim\"\nwhile True:\n    entrada = input(\"Digite um número ou operador (+ ou -), ou 'Fim' para encerrar: \")\n    \n    if entrada == 'Fim':\n        break\n    elif entrada in '+-':\n        expressao.append(entrada)\n    elif entrada.isdigit():\n        expressao.append(entrada)\n    else:\n        print(\"Entrada inválida. Por favor, digite um número, operador (+ ou -), ou 'Fim' para encerrar.\")\n\n# Calcula o resultado da expressão e imprime\nresultado = calcular(expressao)\nprint(f\"Resultado: {resultado}\")\n\n",
      "metadata": {},
      "outputs": [],
      "execution_count": null
    }
  ]
}