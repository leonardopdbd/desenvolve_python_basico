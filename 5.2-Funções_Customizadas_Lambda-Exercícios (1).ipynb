{
  "metadata": {
    "kernelspec": {
      "name": "python",
      "display_name": "Python (Pyodide)",
      "language": "python"
    },
    "language_info": {
      "codemirror_mode": {
        "name": "ipython",
        "version": 3
      },
      "file_extension": ".py",
      "mimetype": "text/x-python",
      "name": "python",
      "nbconvert_exporter": "python",
      "pygments_lexer": "ipython3",
      "version": "3.9.6"
    }
  },
  "nbformat_minor": 5,
  "nbformat": 4,
  "cells": [
    {
      "id": "cbdff5a5",
      "cell_type": "markdown",
      "source": "# Módulo 5 - Funções\n\n## Aulas 5.2 - Funções Customizadas e 5.4 Funções ```lambda```",
      "metadata": {}
    },
    {
      "id": "28a3fee2",
      "cell_type": "markdown",
      "source": "### Q1.\n\n- Sabendo que o código a seguir calcula o fatorial de n, escreva uma função chamada ```fatorial()``` que recebe um inteiro ```n``` como parâmetro e retorna o resultado do fatorial de ```n```. \n- No programa principal, peça ao usuário o valor de ```n```, chame a sua função e imprima o retorno.\n\n```python\nfat = 1\nfor i in range(1, n+1):\n    fat *= i \n```",
      "metadata": {}
    },
    {
      "id": "d126b3a5",
      "cell_type": "code",
      "source": "def fatorial(n):\n    fat = 1\n    for i in range(1, n + 1):\n        fat *= i\n    return fat",
      "metadata": {},
      "outputs": [],
      "execution_count": null
    },
    {
      "id": "6e4fe64e",
      "cell_type": "code",
      "source": "# Programa principal\nif __name__ == \"__main__\":\n    n = int(input(\"Digite um número inteiro para calcular o fatorial: \"))\n    resultado = fatorial(n)\n    print(f\"O fatorial de {n} é {resultado}\")",
      "metadata": {},
      "outputs": [],
      "execution_count": null
    },
    {
      "id": "c0a1f599",
      "cell_type": "markdown",
      "source": "### Q2.\n\n- Escreva uma função em Python chamada ```soma_quadrados``` que recebe dois números como parâmetros e retorna a soma dos seus quadrados. \n- No programa principal solicite ao usuário que insira dois números e utilize a função para exibir a soma dos quadrados.",
      "metadata": {}
    },
    {
      "id": "6dbddaad",
      "cell_type": "code",
      "source": "def soma_quadrados(a, b):\n    return a**2 + b**2\n",
      "metadata": {},
      "outputs": [],
      "execution_count": null
    },
    {
      "id": "9175a7da",
      "cell_type": "code",
      "source": "## Escreva aqu# Programa principal\nif __name__ == \"__main__\":\n    # Solicita ao usuário que insira dois números\n    num1 = float(input(\"Digite o primeiro número: \"))\n    num2 = float(input(\"Digite o segundo número: \"))\n    \n    # Chama a função soma_quadrados e armazena o resultado\n    resultado = soma_quadrados(num1, num2)\n    \n    # Exibe o resultado\n    print(f\"A soma dos quadrados de {num1} e {num2} é {resultado}\")",
      "metadata": {},
      "outputs": [],
      "execution_count": null
    },
    {
      "id": "6ba34ce0",
      "cell_type": "markdown",
      "source": "### Q3.\n\n- Crie uma função em Python chamada ```soma_digitos``` que recebe um número inteiro como parâmetro e retorna a soma dos seus dígitos. Por exemplo, para o número 123, a função deve retornar 6, $(1 + 2 + 3)$.\n    - O desafio aqui é separar os dígitos de um número inteiro usando operações aritméticas <br> <br>\n\n- No programa principal solicite ao usuário que insira um número e utilize a função ```soma_digitos``` para calcular e exibir a soma dos seus dígitos.",
      "metadata": {}
    },
    {
      "id": "34838ebf",
      "cell_type": "code",
      "source": "def soma_digitos(n):\n    soma = 0\n    while n > 0:\n        soma += n % 10  # Adiciona o dígito menos significativo à soma\n        n = n // 10    # Remove o dígito menos significativo\n    return soma\n",
      "metadata": {},
      "outputs": [],
      "execution_count": null
    },
    {
      "id": "27c35b21",
      "cell_type": "code",
      "source": "# Programa principal\nif __name__ == \"__main__\":\n    # Solicita ao usuário que insira um número inteiro\n    numero = int(input(\"Digite um número inteiro: \"))\n    \n    # Chama a função soma_digitos e armazena o resultado\n    resultado = soma_digitos(numero)\n    \n    # Exibe o resultado\n    print(f\"A soma dos dígitos de {numero} é {resultado}\")\n",
      "metadata": {},
      "outputs": [],
      "execution_count": null
    },
    {
      "id": "c318b159",
      "cell_type": "markdown",
      "source": "### Q4.\n\n- Crie a função ```inverteValor()``` que recebe um inteiro de qualquer tamanho e retorna esse valor invertido usando apenas operações aritméticas\n- Crie a função ```verificaInverso()``` que recebe o valor original e o valor invertido e retorna verdadeiro se ambos forem igualmente par ou igualmente ímpar. Retorne falso caso contrário.\n- No programa principal, peça um valor do usuário e imprima o retorno de ambas as funções.\n",
      "metadata": {}
    },
    {
      "id": "e4e47d1d",
      "cell_type": "code",
      "source": "def inverteValor(n):\n    invertido = 0\n    while n > 0:\n        invertido = invertido * 10 + n % 10\n        n = n // 10\n    return invertido\n\ndef verificaInverso(original, invertido):\n    return (original % 2 == 0 and invertido % 2 == 0) or (original % 2 != 0 and invertido % 2 != 0)\n\n",
      "metadata": {},
      "outputs": [],
      "execution_count": null
    },
    {
      "id": "a9514e56",
      "cell_type": "code",
      "source": "# Programa principal\nif __name__ == \"__main__\":\n    # Solicita ao usuário que insira um número inteiro\n    numero = int(input(\"Digite um número inteiro: \"))\n    \n    # Chama a função inverteValor e armazena o resultado\n    valor_invertido = inverteValor(numero)\n    \n    # Chama a função verificaInverso com os valores original e invertido\n    inverso_verificado = verificaInverso(numero, valor_invertido)\n    \n    # Exibe os resultados\n    print(f\"O valor invertido de {numero} é {valor_invertido}\")\n    print(f\"Original e invertido são igualmente pares ou ímpares? {'Sim' se inverso_verificado else 'Não'}\")\n",
      "metadata": {},
      "outputs": [],
      "execution_count": null
    },
    {
      "id": "329be966",
      "cell_type": "markdown",
      "source": "### Q5.\n\nVocê está desenvolvendo um programa para auxiliar em cálculos de geometria básica. Crie as seguintes funções:\n- A função ```calcula_perimetro_triangulo()``` que recebe três inteiros correspondentes aos lados de um triângulo e retorna o perímetro do triângulo, ou seja, a soma dos seus lados.\n- A função ```calcula_perimetro_circulo()``` que recebe um inteiro referente ao raio do círculo e retorna o perímetro do círculo, dado por $2 \\pi r$. Use a constante $\\pi$ da biblioteca ```math```.\n- A função ```calcula_perimetro_retangulo()``` que possui um parâmetro obrigatório ```lado1``` e um opcional ```lado2```, ambos inteiros. Se o valor opcional não for fornecido, significa que se trata de um quadrado. Sua função deve calcular e retornar o perímetro do retângulo, ou seja, a soma de seus lados. \n    - Para o quadrado, é dado por $4 \\times lado1$\n    - Para o retângulo é dado por $2 \\times lado1 + 2 \\times lado2$\n    \n- No programa principal apresente um menu com as opções disponíveis do seu sistema e uma quarta opção ```Sair```. Solicite ao usuário a opção desejada, solicite as entradas correspondentes à opção escolhida, invoque a respective função e apresente o seu retorno. Seu programa deve retornar ao menu até que o usuário escolha a opção ```Sair```\n\nExemplo de interação:\n```\n1 - Calcular perímetro triângulo\n2 - Calcular perímetro círculo\n3 - Calcular perímetro retângulo\n4 - Sair\n\nOpção: 1\nDigite os três lados do triângulo:\n3\n4\n5\nO perímetro é: 12\n\n1 - Calcular perímetro triângulo\n2 - Calcular perímetro círculo\n3 - Calcular perímetro retângulo\n4 - Sair\n\nOpção: 3\nInforme os dois lados do retângulo. Se for um quadrado, digite 0 para o segundo valor:\n5\n0\nO perímetro é: 20\n\n1 - Calcular perímetro triângulo\n2 - Calcular perímetro círculo\n3 - Calcular perímetro retângulo\n4 - Sair\n\nOpção: 4\n```",
      "metadata": {}
    },
    {
      "id": "0793d328",
      "cell_type": "code",
      "source": "import math\n\n# Função para calcular o perímetro de um triângulo\ndef calcula_perimetro_triangulo(lado1, lado2, lado3):\n    return lado1 + lado2 + lado3\n\n# Função para calcular o perímetro de um círculo\ndef calcula_perimetro_circulo(raio):\n    return 2 * math.pi * raio\n\n# Função para calcular o perímetro de um retângulo ou quadrado\ndef calcula_perimetro_retangulo(lado1, lado2=0):\n    if lado2 == 0:\n        return 4 * lado1\n    else:\n        return 2 * (lado1 + lado2)\n\n# Função para exibir o menu de opções\ndef menu():\n    print(\"1 - Calcular perímetro triângulo\")\n    print(\"2 - Calcular perímetro círculo\")\n    print(\"3 - Calcular perímetro retângulo\")\n    print(\"4 - Sair\")\n\n\n",
      "metadata": {},
      "outputs": [],
      "execution_count": null
    },
    {
      "id": "36269c71",
      "cell_type": "code",
      "source": "# Código principal\nif __name__ == \"__main__\":\n    while True:\n        menu()  # Exibe o menu de opções\n        opcao = int(input(\"Opção: \"))  # Solicita ao usuário que escolha uma opção\n        \n        if opcao == 1:\n            # Solicita os três lados do triângulo\n            print(\"Digite os três lados do triângulo:\")\n            lado1 = int(input(\"Lado 1: \"))\n            lado2 = int(input(\"Lado 2: \"))\n            lado3 = int(input(\"Lado 3: \"))\n            # Calcula o perímetro do triângulo\n            perimetro = calcula_perimetro_triangulo(lado1, lado2, lado3)\n            print(f\"O perímetro é: {perimetro}\")\n        \n        elif opcao == 2:\n            # Solicita o raio do círculo\n            raio = int(input(\"Digite o raio do círculo: \"))\n            # Calcula o perímetro do círculo\n            perimetro = calcula_perimetro_circulo(raio)\n            print(f\"O perímetro é: {perimetro:.2f}\")\n        \n        elif opcao == 3:\n            # Solicita os lados do retângulo (ou quadrado)\n            lado1 = int(input(\"Informe o primeiro lado do retângulo: \"))\n            lado2 = int(input(\"Informe o segundo lado do retângulo. Se for um quadrado, digite 0: \"))\n            # Calcula o perímetro do retângulo ou quadrado\n            perimetro = calcula_perimetro_retangulo(lado1, lado2)\n            print(f\"O perímetro é: {perimetro}\")\n        \n        elif opcao == 4:\n            # Sai do programa\n            print(\"Saindo...\")\n            break\n        \n        else:\n            # Opção inválida\n            print(\"Opção inválida, tente novamente.\")",
      "metadata": {},
      "outputs": [],
      "execution_count": null
    },
    {
      "id": "3016bcc7",
      "cell_type": "markdown",
      "source": "## Funções ```lambda```",
      "metadata": {}
    },
    {
      "id": "f9cdb8dd",
      "cell_type": "markdown",
      "source": "### Q6.\n\nCrie uma função lambda para verificar se um número é par ou ímpar. Em seguida, solicite ao usuário um número indefinidos de valores (até que o usuário digite 0). Para cada valor de entrada, informe se é par ou ímpar.\n\nExemplo de interação:\n```\nDigite os valores que deseja verificar a paridade (digite 0 para finalizar a entrada de dados):\n3\nímpar\n8\npar\n12\npar\n5\nímpar\n7ímpar\n```",
      "metadata": {}
    },
    {
      "id": "e3c31a78",
      "cell_type": "code",
      "source": "# Função lambda para verificar se um número é par ou ímpar\nparidade = lambda x: \"par\" if x % 2 == 0 else \"ímpar\"\n\n# Solicita ao usuário um número indefinido de valores até que digite 0\nprint(\"Digite os valores que deseja verificar a paridade (digite 0 para finalizar a entrada de dados):\")\n\nwhile True:\n    numero = int(input())\n    if numero == 0:\n        break\n    else:\n        print(paridade(numero))\n",
      "metadata": {},
      "outputs": [],
      "execution_count": null
    },
    {
      "id": "5a87474d",
      "cell_type": "markdown",
      "source": "### Q7.\n\nEscreva um programa que pergunte ao usuário qual operação ele deseja: maior ou menor.\nEm seguida leia uma quantidade indefinida de valores do usuário, até que o usuário digite o valor zero.\nApresente ao final o maior ou menor dos valores digitados de acordo com a escolha do usuário.\n\n**Sua solução deve incluir pelo menos uma função ```lambda```** \n\nExemplo de interação:\n```\nOpções: (1) maior ou (2) menor?\nOpção: 1\n\nDigite os valores de entrada. Digite 0 para finalizar a entrada de valores.\n4\n12\n15\n1\n0\n\nO maior valor é: 15\n```",
      "metadata": {}
    },
    {
      "id": "ee3f68ca",
      "cell_type": "code",
      "source": "# Funções lambda para encontrar o maior ou menor valor\nmaior = lambda a, b: a if a > b else b\nmenor = lambda a, b: a if a < b else b\n\n# Função para solicitar a opção do usuário\ndef solicitar_opcao():\n    while True:\n        try:\n            opcao = int(input(\"Opções: (1) maior ou (2) menor? \\nOpção: \"))\n            if opcao in [1, 2]:\n                return opcao\n            else:\n                print(\"Opção inválida. Por favor, escolha 1 para maior ou 2 para menor.\")\n        except ValueError:\n            print(\"Entrada inválida. Por favor, digite um número.\")\n\n# Função principal\nif __name__ == \"__main__\":\n    opcao = solicitar_opcao()\n    \n    print(\"\\nDigite os valores de entrada. Digite 0 para finalizar a entrada de valores.\")\n    valores = []\n    \n    while True:\n        try:\n            valor = int(input())\n            if valor == 0:\n                break\n            valores.append(valor)\n        except ValueError:\n            print(\"Entrada inválida. Por favor, digite um número inteiro.\")\n    \n    if not valores:\n        print(\"Nenhum valor foi digitado.\")\n    else:\n        if opcao == 1:\n            resultado = valores[0]\n            for v in valores[1:]:\n                resultado = maior(resultado, v)\n            print(f\"\\nO maior valor é: {resultado}\")\n        elif opcao == 2:\n            resultado = valores[0]\n            for v in valores[1:]:\n                resultado = menor(resultado, v)\n            print(f\"\\nO menor valor é: {resultado}\")\n",
      "metadata": {},
      "outputs": [],
      "execution_count": null
    }
  ]
}