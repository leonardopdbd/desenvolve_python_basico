{
  "metadata": {
    "kernelspec": {
      "name": "python",
      "display_name": "Python (Pyodide)",
      "language": "python"
    },
    "language_info": {
      "codemirror_mode": {
        "name": "ipython",
        "version": 3
      },
      "file_extension": ".py",
      "mimetype": "text/x-python",
      "name": "python",
      "nbconvert_exporter": "python",
      "pygments_lexer": "ipython3",
      "version": "3.9.6"
    }
  },
  "nbformat_minor": 5,
  "nbformat": 4,
  "cells": [
    {
      "id": "0d5035b5",
      "cell_type": "markdown",
      "source": "# Listas\n\n## Aulas 6.1 a 6.5 ",
      "metadata": {}
    },
    {
      "id": "0bdece85",
      "cell_type": "markdown",
      "source": "### Q1. \n\nUsando a função embutida ```map``` e criando uma função ```lambda```, transforme uma lista com os raios de múltiplas circunferências em uma nova lista com as respectivas áreas. O cálculo de cada área é dado por: ```pi*(raio**2)```\n- Use a constante pi da biblioteca math \n- Arredonde o resultado para 2 casas decimais\n",
      "metadata": {}
    },
    {
      "id": "0a258eba",
      "cell_type": "code",
      "source": "## Complete a solução\n\nraios = [1.5, 0.8, 2.3, 5.0]\n\n## Complete a soluçãoimport math\n\n# Todos os números pares entre 20 e 50\npares_20_50 = [x for x in range(20, 51) if x % 2 == 0]\n\n# Os quadrados de todos os valores da lista [1, 2, 3, 4, 5, 6, 7, 8, 9]\nquadrados = [x**2 for x in range(1, 10)]\n\n# Todos os números entre 1 e 100 que sejam divisíveis por 7\ndivisiveis_por_7 = [x for x in range(1, 101) if x % 7 == 0]\n\n# Para todos os valores em range(0, 30, 3), escreva \"par\" ou \"ímpar\" dependendo da paridade do elemento\nparidade = [\"par\" if x % 2 == 0 else \"ímpar\" for x in range(0, 30, 3)]\n\n# Lista de raios\nraios = [1.5, 0.8, 2.3, 5.0]\n\n# Calcula a área dos círculos com os raios fornecidos\nareas = [math.pi * r**2 for r in raios]\n\n# Imprimir as listas geradas\nprint(\"Números pares entre 20 e 50:\", pares_20_50)\nprint(\"Quadrados dos valores de 1 a 9:\", quadrados)\nprint(\"Números entre 1 e 100 divisíveis por 7:\", divisiveis_por_7)\nprint(\"Paridade dos valores em range(0, 30, 3):\", paridade)\nprint(\"Áreas dos círculos com os raios fornecidos:\", areas)\n\n",
      "metadata": {},
      "outputs": [],
      "execution_count": null
    },
    {
      "id": "649a5082",
      "cell_type": "markdown",
      "source": "### Q2. \n\nCrie uma função customizada e aplique a função embutida ```filter``` para operar em uma lista de listas contendo os lados de múltiplos triângulos. Construa uma nova lista contendo apenas os triângulos equiláteros, ou seja, com os três lados iguais.\n",
      "metadata": {}
    },
    {
      "id": "47cb0573",
      "cell_type": "code",
      "source": "# Função customizada que verifica se um triângulo é equilátero\ndef testa_equilatero(lados):\n    return lados[0] == lados[1] == lados[2]\n\n# Lista de triângulos\ntriangulos = [[2, 2, 2], [3, 4, 5], [3, 2, 2], [4, 4, 4]]\n\n# Usando filter para aplicar a função customizada e criar uma nova lista com apenas triângulos equiláteros\ntriangulos_equilateros = list(filter(testa_equilatero, triangulos))\n\n# Imprimir a lista de triângulos equiláteros\nprint(\"Triângulos equiláteros:\", triangulos_equilateros)\n",
      "metadata": {},
      "outputs": [],
      "execution_count": null
    },
    {
      "id": "bb62d219",
      "cell_type": "markdown",
      "source": "### Q3. \nCrie uma função chamada ```ordena_por_comprimento``` que aceite uma lista de strings e a ordene com base no comprimento das strings, do menor para o maior. Utilize a função ```sorte``` e uma expressão ```lambda```.",
      "metadata": {}
    },
    {
      "id": "add41556",
      "cell_type": "code",
      "source": "### crie a função ordena_por_comprimento e retorne a lista resultado\n\n\n### aplique sua função à seguinte lista e imprima o resultado\nnomes = [\"Joao\", \"Maria\", \"Jose\", \"Gabriela\", \"Sol\", \"Luna\", \"Bento\", \"Enzo\", \"Fernanda\"]\n\ndef ordena_por_comprimento(lista_strings):\n    # Ordena a lista com base no comprimento das strings usando sorted e uma expressão lambda\n    return sorted(lista_strings, key=lambda s: len(s))\n\n# Lista de nomes fornecida\nnomes = [\"Joao\", \"Maria\", \"Jose\", \"Gabriela\", \"Sol\", \"Luna\", \"Bento\", \"Enzo\", \"Fernanda\"]\n\n# Aplicar a função e obter a lista ordenada\nnomes_ordenados = ordena_por_comprimento(nomes)\n\n# Imprimir o resultado\nprint(\"Nomes ordenados por comprimento:\", nomes_ordenados)\n\n\n\n",
      "metadata": {},
      "outputs": [],
      "execution_count": null
    },
    {
      "id": "8710b1a7",
      "cell_type": "markdown",
      "source": "### Q4.\n\nCrie uma lista de listas (uma matriz de 2 dimensões) de tamanho $n \\times n$, com $n$ dado pelo usuário. Cada elemento da matriz deve ser o produto dos índices da linha pela coluna.\n\nExemplo:\n```\nDigite n: 4\nMatriz:\n[[0, 0, 0, 0],\n [0, 1, 2, 3],\n [0, 2, 4, 6],\n [0, 3, 6, 9]]\n```",
      "metadata": {}
    },
    {
      "id": "0b7ee921",
      "cell_type": "code",
      "source": "def criar_matriz(n):\n    # Cria a matriz de tamanho n x n com cada elemento sendo o produto dos índices\n    return [[i * j for j in range(n)] for i in range(n)]\n\n# Solicita ao usuário o valor de n\nn = int(input(\"Digite n: \"))\n\n# Gera a matriz\nmatriz = criar_matriz(n)\n\n# Imprime a matriz\nprint(\"Matriz:\")\nfor linha in matriz:\n    print(linha)\n",
      "metadata": {},
      "outputs": [],
      "execution_count": null
    },
    {
      "id": "f41781df",
      "cell_type": "markdown",
      "source": "### Q5.\n\nDada uma lista de números inteiros, implemente uma função em Python chamada ```pares_unicos``` que encontre e retorne todos os pares únicos de elementos na lista cuja soma seja igual a um determinado valor. Considere que a ordem dos pares não é relevante.",
      "metadata": {}
    },
    {
      "id": "7a76f765",
      "cell_type": "code",
      "source": "def pares_unicos(numeros, soma_objetivo):\n    # Implemente sua solução aqui\n\n# Exemplo de uso:\nnums = [3, 4, 5, 6, 7]\nsoma = 10\nresultado = pares_unicos(nums, soma)\nprint(resultado)  # Saída esperada: [(3, 7), (4, 6)]",
      "metadata": {},
      "outputs": [],
      "execution_count": null
    },
    {
      "id": "87e44893",
      "cell_type": "markdown",
      "source": "### Q5.\n\nEscreva um programa para encontrar a diferença entre duas listas, incluindo elementos duplicados.\n\nEx:\n```\nListas originais: \n[1, 1, 2, 3, 3, 4, 4, 5, 6, 7]\n[1, 1, 2, 4, 5, 6]\nDiferença entre as listas:\n[3, 3, 4, 7]\n```",
      "metadata": {}
    },
    {
      "id": "7edc027c",
      "cell_type": "code",
      "source": "from collections import Counter\n\ndef diferenca_listas(lista1, lista2):\n    # Conta as ocorrências de cada elemento em ambas as listas\n    contagem1 = Counter(lista1)\n    contagem2 = Counter(lista2)\n    \n    # Calcula a diferença entre as contagens\n    diferenca = contagem1 - contagem2\n    \n    # Converte o resultado de volta para uma lista, incluindo elementos duplicados\n    resultado = list(diferenca.elements())\n    \n    return resultado\n\n# Listas de exemplo\nlista1 = [1, 1, 2, 3, 3, 4, 4, 5, 6, 7]\nlista2 = [1, 1, 2, 4, 5, 6]\n\n# Calcula a diferença entre as listas\ndiferenca = diferenca_listas(lista1, lista2)\n\n# Imprime o resultado\nprint(\"Listas originais:\")\nprint(lista1)\nprint(lista2)\nprint(\"Diferença entre as listas:\")\nprint(diferenca)\n",
      "metadata": {},
      "outputs": [],
      "execution_count": null
    },
    {
      "id": "f4c4236d",
      "cell_type": "markdown",
      "source": "### Q6.\n\nDada uma lista aleatória, escreva um programa que separa os valores em listas menores de acordo com o tamanho solicitado. Caso não seja possível repartir igualmente a lista original, a última sublista deve conter os elementos remanescentes, como indicado no exemplo a seguir.\n\nNote que seu programa deve continuar executando em um laço infinito até que o usuário informe o tamanho 0 na entrada solicitada.\n\n```\nLista original:\n[12, 45, 23, 67, 78, 90, 45, 32, 100, 76, 38, 62, 73, 29, 83]\n\nTamanho para divisão: 3\nSubslistas:\n[[12, 45, 23], [67, 78, 90], [45, 32, 100], [76, 38, 62], [73, 29, 83]]\n\nTamanho para divisão: 4\nSubslistas: [[12, 45, 23, 67], [78, 90, 45, 32], [100, 76, 38, 62], [73, 29, 83]]\n\nTamanho para divisão: 0\n```",
      "metadata": {}
    },
    {
      "id": "792563de",
      "cell_type": "code",
      "source": "import random\nlista = [random.randint(1,100) for i in range(20)]\n\n# Implemente sua solução aqui\n\nimport random\n\n# Gera uma lista aleatória de 20 elementos entre 1 e 100\nlista = [random.randint(1, 100) for i in range(20)]\n\ndef dividir_lista(lista, tamanho):\n    # Divide a lista em sublistas de tamanho especificado\n    return [lista[i:i + tamanho] for i in range(0, len(lista), tamanho)]\n\nwhile True:\n    # Exibe a lista original\n    print(\"Lista original:\")\n    print(lista)\n\n    # Solicita ao usuário o tamanho para divisão\n    tamanho = int(input(\"Tamanho para divisão: \"))\n    \n    # Verifica se o tamanho é 0, e encerra o laço se for o caso\n    if tamanho == 0:\n        print(\"Tamanho para divisão: 0\")\n        break\n    \n    # Divide a lista e exibe as sublistas\n    sublistas = dividir_lista(lista, tamanho)\n    print(\"Sublistas:\")\n    print(sublistas)\n",
      "metadata": {},
      "outputs": [],
      "execution_count": null
    },
    {
      "id": "c65be32f",
      "cell_type": "markdown",
      "source": "### Q7.\n\nVocê está desenvolvendo um programa para determinar o vencedor de um jogo da velha. Escreva uma função ```avalia_tabuleiro()``` que recebe uma lista representando o estado atual do tabuleiro e determina se há um vencedor. \n\nA lista terá 3 sublistas, cada uma representando uma linha do tabuleiro. Cada elemento das sublistas pode ser 'X', 'O' ou vazio (' ').\n\nO programa deve imprimir o vencedor ('X', 'O'), se houver um, ou \"Empate\" se não houver vencedor. Um vencedor é determinado se houver três 'X' ou três 'O' em linha (horizontal, vertical ou diagonal).\n\nExemplo:\n```python\ntabuleiro = [\n    ['X', 'O', 'X'],\n    [' ', 'X', 'O'],\n    ['O', ' ', 'O']\n]\n```\nO resultado seria \"Empate\", pois não há um vencedor no exemplo fornecido. \n\nExemplo 2:\n```python\ntabuleiro = [\n    ['O', 'X', 'O'],\n    ['X', 'O', 'X'],\n    ['X', ' ', 'O']\n]\n```\nO resultado seria \"O\", pois 'O' venceu na diagonal central.",
      "metadata": {}
    },
    {
      "id": "720ca24d",
      "cell_type": "code",
      "source": "### Escreva a função avalia_tabuleiro()\n\n\n\n\n### teste a função nos seguintes tabuleiros\n\ntabuleiro1 = [\n    ['X', 'O', 'X'],\n    [' ', 'X', 'O'],\n    ['O', ' ', 'X']\n]\n\ntabuleiro2 = [\n    ['X', 'O', 'O'],\n    ['X', 'X', 'O'],\n    ['X', 'O', 'X']\n]\n\ntabuleiro3 = [\n    [' ', ' ', ' '],\n    ['X', ' ', 'O'],\n    ['O', 'X', 'X']\n]\n\ntabuleiro4 = [\n    ['O', 'O', 'O'],\n    ['X', ' ', 'X'],\n    ['O', 'X', 'X']\n]\n\ntabuleiro5 = [\n    ['X', 'X', 'O'],\n    ['X', ' ', 'O'],\n    ['O', 'O', 'X']\n]\n\ndef avalia_tabuleiro(tabuleiro):\n    # Função para verificar se há um vencedor\n    def verificar_linha(linha):\n        if linha[0] == linha[1] == linha[2] and linha[0] != ' ':\n            return linha[0]\n        return None\n\n    # Verifica as linhas\n    for linha in tabuleiro:\n        vencedor = verificar_linha(linha)\n        if vencedor:\n            return vencedor\n\n    # Verifica as colunas\n    for col in range(3):\n        coluna = [tabuleiro[row][col] for row in range(3)]\n        vencedor = verificar_linha(coluna)\n        if vencedor:\n            return vencedor\n\n    # Verifica as diagonais\n    diagonal1 = [tabuleiro[i][i] for i in range(3)]\n    diagonal2 = [tabuleiro[i][2 - i] for i in range(3)]\n\n    if verificar_linha(diagonal1):\n        return verificar_linha(diagonal1)\n    if verificar_linha(diagonal2):\n        return verificar_linha(diagonal2)\n\n    # Verifica se há espaços vazios (o jogo pode estar em andamento)\n    for linha in tabuleiro:\n        if ' ' in linha:\n            return \"Em andamento\"\n\n    # Se não houver espaços vazios e não há vencedores, é empate\n    return \"Empate\"\n\n# Teste com os tabuleiros fornecidos\ntabuleiro1 = [\n    ['X', 'O', 'X'],\n    [' ', 'X', 'O'],\n    ['O', ' ', 'X']\n]\n\ntabuleiro2 = [\n    ['X', 'O', 'O'],\n    ['X', 'X', 'O'],\n    ['X', 'O', 'X']\n]\n\ntabuleiro3 = [\n    [' ', ' ', ' '],\n    ['X', ' ', 'O'],\n    ['O', 'X', 'X']\n]\n\ntabuleiro4 = [\n    ['O', 'O', 'O'],\n    ['X', ' ', 'X'],\n    ['O', 'X', 'X']\n]\n\ntabuleiro5 = [\n    ['X', 'X', 'O'],\n    ['X', ' ', 'O'],\n    ['O', 'O', 'X']\n]\n\n# Imprimir os resultados dos testes\nprint(\"Resultado do tabuleiro 1:\", avalia_tabuleiro(tabuleiro1))\nprint(\"Resultado do tabuleiro 2:\", avalia_tabuleiro(tabuleiro2))\nprint(\"Resultado do tabuleiro 3:\", avalia_tabuleiro(tabuleiro3))\nprint(\"Resultado do tabuleiro 4:\", avalia_tabuleiro(tabuleiro4))\nprint(\"Resultado do tabuleiro 5:\", avalia_tabuleiro(tabuleiro5))\n",
      "metadata": {},
      "outputs": [],
      "execution_count": null
    }
  ]
}