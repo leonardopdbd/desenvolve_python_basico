{
  "metadata": {
    "kernelspec": {
      "name": "python",
      "display_name": "Python (Pyodide)",
      "language": "python"
    },
    "language_info": {
      "codemirror_mode": {
        "name": "python",
        "version": 3
      },
      "file_extension": ".py",
      "mimetype": "text/x-python",
      "name": "python",
      "nbconvert_exporter": "python",
      "pygments_lexer": "ipython3",
      "version": "3.8"
    }
  },
  "nbformat_minor": 5,
  "nbformat": 4,
  "cells": [
    {
      "id": "0d5035b5",
      "cell_type": "markdown",
      "source": "# Set\n\n## Aula 8.1",
      "metadata": {}
    },
    {
      "id": "0bdece85",
      "cell_type": "markdown",
      "source": "### Q1. \n\nDada uma string qualquer, use seu conhecimento de sets para apresentar os caracteres únicos que aparecem na string, ordenados alfabeticamente e sem duplicatas. Preste atenção em duplicatas de maiúsculas e minúsculas.\n",
      "metadata": {}
    },
    {
      "id": "0a258eba",
      "cell_type": "code",
      "source": "frase = \"O rato roeu a roupa do Robson\"\n\ndef caracteres_unicos_ordenados(frase):\n    # Remove espaços e converte a frase para minúsculas\n    frase = frase.lower()\n    \n    # Cria um conjunto com caracteres únicos\n    caracteres = set(frase)\n    \n    # Remove espaços e caracteres não alfabéticos do conjunto\n    caracteres = {c for c in caracteres if c.isalpha()}\n    \n    # Ordena os caracteres e os junta em uma string\n    caracteres_ordenados = ''.join(sorted(caracteres))\n    \n    return caracteres_ordenados\n\n# Exemplo de uso\nfrase = \"O rato roeu a roupa do Robson\"\nresultado = caracteres_unicos_ordenados(frase)\nprint(resultado)\n\n",
      "metadata": {},
      "outputs": [],
      "execution_count": null
    },
    {
      "id": "0856bd56",
      "cell_type": "markdown",
      "source": "### Q2\n\nDesenvolva uma função em Python chamada ```tem_elementos_comuns()``` que recebe duas listas como parâmetros e retorna True se houver algum elemento comum entre as duas listas, e False caso contrário. Utilize sets para resolver essa tarefa.",
      "metadata": {}
    },
    {
      "id": "f7ab6736",
      "cell_type": "code",
      "source": "# Implemente aqui a função tem_elementos_comuns()\ndef tem_elementos_comuns(lista1, lista2):\n    # Converte as listas em conjuntos\n    set1 = set(lista1)\n    set2 = set(lista2)\n    \n    # Verifica se há interseção entre os conjuntos\n    return not set1.isdisjoint(set2)\n\n# Teste da função\nlista1 = [1, 2, 3, 4]\nlista2 = [3, 4, 5, 6, 7]\nresultado = tem_elementos_comuns(lista1, lista2)\nprint(resultado)  # Saída esperada: True\n\n",
      "metadata": {},
      "outputs": [],
      "execution_count": null
    },
    {
      "id": "1022744a",
      "cell_type": "code",
      "source": "# Execute esta célula para testar a função da Q2.\n\nlista1 = [1, 2, 3, 4]\nlista2 = [3, 4, 5, 6, 7]\nresultado = tem_elementos_comuns(lista1, lista2)\nprint(resultado)  # Saída esperada: True",
      "metadata": {},
      "outputs": [],
      "execution_count": null
    },
    {
      "id": "649a5082",
      "cell_type": "markdown",
      "source": "### Q3. \n\nVocê vai coletar de diferentes turmas de alunos seus interesses em atividades extra curriculares dentre futebol, vôlei, rugby, música, teatro, ações comunitárias. Informe o conjunto de atividades comuns a todas a turmas. Pode preencher o iterável turmas com valores arbitrários. \n",
      "metadata": {}
    },
    {
      "id": "880a9927",
      "cell_type": "code",
      "source": "turmas = [\n     {'ações comunitárias', 'futebol', 'música', 'rugby'},\n     {'ações comunitárias', 'música', 'rugby', 'teatro'},\n     {'música', 'rugby', 'teatro', 'vôlei'},\n     {'música', 'vôlei', 'rugby'},\n     {'ações comunitárias', 'futebol', 'rugby', 'teatro', 'vôlei'},\n     {'ações comunitárias', 'futebol', 'rugby'},\n     {'ações comunitárias', 'rugby', 'teatro', 'vôlei'},\n     {'ações comunitárias', 'rugby', 'teatro', 'vôlei'},\n     {'ações comunitárias', 'rugby', 'vôlei'}\n]\n\n\n## Implemente aqui sua solução\n\n# Lista de turmas com suas atividades\nturmas = [\n    {'ações comunitárias', 'futebol', 'música', 'rugby'},\n    {'ações comunitárias', 'música', 'rugby', 'teatro'},\n    {'música', 'rugby', 'teatro', 'vôlei'},\n    {'música', 'vôlei', 'rugby'},\n    {'ações comunitárias', 'futebol', 'rugby', 'teatro', 'vôlei'},\n    {'ações comunitárias', 'futebol', 'rugby'},\n    {'ações comunitárias', 'rugby', 'teatro', 'vôlei'},\n    {'ações comunitárias', 'rugby', 'teatro', 'vôlei'},\n    {'ações comunitárias', 'rugby', 'vôlei'}\n]\n\n# Inicializa o conjunto com a primeira turma\natividades_comuns = turmas[0]\n\n# Intersecta com as atividades das demais turmas\nfor turma in turmas[1:]:\n    atividades_comuns &= turma\n\nprint(atividades_comuns)\n\n\n",
      "metadata": {},
      "outputs": [],
      "execution_count": null
    },
    {
      "id": "021e2b1e",
      "cell_type": "markdown",
      "source": "### Q4. \nConsidere duas listas que são duplicatas uma da outra, exceto por um elemento, exemplo:\n```\nA = [1, 4, 5, 7, 9]\nB = [4, 5, 7, 9]\n```\n\nEncontre e apresente o elemento diferente, informando também qual das listas está desfalcada. Para o exemplo acima, a saída esperada é\n```\nO elemento 1 está faltando na segunda lista\n```",
      "metadata": {}
    },
    {
      "id": "608761a4",
      "cell_type": "code",
      "source": "## Implemente aqui sua solução\n\ndef encontrar_elemento_diferente(lista1, lista2):\n    # Converte as listas em conjuntos\n    set1 = set(lista1)\n    set2 = set(lista2)\n    \n    # Encontra a diferença entre os conjuntos\n    diferenca1 = set1 - set2  # Elementos em lista1 que não estão em lista2\n    diferenca2 = set2 - set1  # Elementos em lista2 que não estão em lista1\n\n    # Determina qual lista está desfalcada\n    if diferenca1:\n        elemento_faltando = diferenca1.pop()\n        return f\"O elemento {elemento_faltando} está faltando na segunda lista\"\n    elif diferenca2:\n        elemento_faltando = diferenca2.pop()\n        return f\"O elemento {elemento_faltando} está faltando na primeira lista\"\n    else:\n        return \"As listas são iguais\"\n\n# Exemplo\nA = [1, 4, 5, 7, 9]\nB = [4, 5, 7, 9]\n\nresultado = encontrar_elemento_diferente(A, B)\nprint(resultado)  # Saída esperada: O elemento 1 está faltando na segunda lista\n",
      "metadata": {},
      "outputs": [],
      "execution_count": null
    },
    {
      "id": "ddf180c1",
      "cell_type": "markdown",
      "source": "### Q5.\n\nPanagramas são frases que contém todas as letras do alfabeto pelo menos uma vez. Crie uma função ```checa_panagrama``` que recebe uma string e retorna ```True``` caso seja um panagrama ou ```False```caso contrário. Use seu conhecimento de sets para solucionar essa questão.\n\nEx: \n```\nEntrada: \"The quick brown fox jumps over the lazy dog\" \nSaída: É um panagrama\n```\n\n```\nEntrada: \"Python é uma linguagem de programação\" \nSaída: Não é um panagrama\n```",
      "metadata": {}
    },
    {
      "id": "4e8b0390",
      "cell_type": "code",
      "source": "## Implemente aqui sua solução\ndef checa_panagrama(frase):\n    import string\n    \n    # Define o conjunto de todas as letras do alfabeto em minúsculas\n    alfabeto = set(string.ascii_lowercase)\n    \n    # Converte a frase para minúsculas e cria um conjunto com as letras encontradas\n    letras_encontradas = set(c.lower() for c in frase if c.isalpha())\n    \n    # Verifica se o conjunto de letras encontradas contém todas as letras do alfabeto\n    if alfabeto.issubset(letras_encontradas):\n        return \"É um panagrama\"\n    else:\n        return \"Não é um panagrama\"\n\n# Testes\nprint(checa_panagrama(\"The quick brown fox jumps over the lazy dog\")) \n# Saída esperada: É um panagrama\n\nprint(checa_panagrama(\"Python é uma linguagem de programação\")) \n# Saída esperada: Não é um panagrama\n",
      "metadata": {},
      "outputs": [],
      "execution_count": null
    }
  ]
}