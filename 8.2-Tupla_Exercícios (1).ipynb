{
  "metadata": {
    "kernelspec": {
      "name": "python",
      "display_name": "Python (Pyodide)",
      "language": "python"
    },
    "language_info": {
      "codemirror_mode": {
        "name": "python",
        "version": 3
      },
      "file_extension": ".py",
      "mimetype": "text/x-python",
      "name": "python",
      "nbconvert_exporter": "python",
      "pygments_lexer": "ipython3",
      "version": "3.8"
    }
  },
  "nbformat_minor": 5,
  "nbformat": 4,
  "cells": [
    {
      "id": "0d5035b5",
      "cell_type": "markdown",
      "source": "# Tupla\n\n## Aula 8.2",
      "metadata": {}
    },
    {
      "id": "0bdece85",
      "cell_type": "markdown",
      "source": "### Q1. \n\nEscreva uma função ```calcula_area_perimetro``` que recebe **apenas um parâmetro** ```dimensoes``` e calcula a área e o perímetro a partir das dimensões dadas. \n- ```dimensoes``` é uma tupla (largura, comprimento) com as dimensões de um terreno retangular\n- Sua função deve calcular e retornar as seguintes operações\n   - $area = largura \\times comprimento$\n   - $perimetro = 2\\times(largura + comprimento)$\n",
      "metadata": {}
    },
    {
      "id": "0a258eba",
      "cell_type": "code",
      "source": "def calcula_area_perimetro(dimensoes):\n    largura, comprimento = dimensoes\n    area = largura * comprimento\n    perimetro = 2 * (largura + comprimento)\n    return area, perimetro\n\n# Exemplo de uso\nlargura = 5\ncomprimento = 7\ndimensoes = (largura, comprimento)\nretorno = calcula_area_perimetro(dimensoes)\nprint(retorno, type(retorno))\n# Saída esperada: (35, 24) <class 'tuple'>\n\n",
      "metadata": {},
      "outputs": [],
      "execution_count": null
    },
    {
      "id": "e1866c04",
      "cell_type": "code",
      "source": "# Complete o exemplo de uso abaixo\nlargura = 5\ncomprimento = 7\n\nretorno = ## complete aqui a chamada da função\nprint(retorno, type(retorno))",
      "metadata": {},
      "outputs": [],
      "execution_count": null
    },
    {
      "id": "cbdcb986",
      "cell_type": "markdown",
      "source": "### Q2.\n\nDada uma string, imprima todas as vogais que aparecem na string, bem como todos os índices onde elas ocorrem. Para isso, use a função ```enumerate```.\n",
      "metadata": {}
    },
    {
      "id": "1f6b1f2d",
      "cell_type": "code",
      "source": "frase = \"O rato roeu a roupa da Alice\"\n\ndef imprimir_vogais_indices(frase):\n    vogais = \"aeiouAEIOU\"\n    for indice, caractere in enumerate(frase):\n        if caractere in vogais:\n            print(f\"Vogal: {caractere}, Índice: {indice}\")\n\n# Exemplo de uso\nfrase = \"O rato roeu a roupa da Alice\"\nimprimir_vogais_indices(frase)\n",
      "metadata": {},
      "outputs": [],
      "execution_count": null
    },
    {
      "id": "8d46663f",
      "cell_type": "markdown",
      "source": "### Q3.\n\nEscreva uma função em Python chamada ```ordenar_tuplas``` que recebe uma lista de tuplas, cada uma contendo o nome de um aluno e sua respectiva média, e retorna uma nova lista ordenada em ordem decrescente de médias.",
      "metadata": {}
    },
    {
      "id": "469f2e6e",
      "cell_type": "code",
      "source": "def ordenar_tuplas(lista):\n    # Ordena a lista de tuplas com base na segunda posição de cada tupla (a média), em ordem decrescente\n    lista_ordenada = sorted(lista, key=lambda aluno: aluno[1], reverse=True)\n    return lista_ordenada\n\n# Exemplo de uso\nalunos_notas = [('Alice', 8.5), ('Bob', 7.2), ('Charlie', 9.0), ('David', 8.8)]\nresultado = ordenar_tuplas(alunos_notas)\nprint(resultado)\n# Saída esperada: [('Charlie', 9.0), ('David', 8.8), ('Alice', 8.5), ('Bob', 7.2)]\n",
      "metadata": {},
      "outputs": [],
      "execution_count": null
    },
    {
      "id": "1972c62b",
      "cell_type": "code",
      "source": "# Exemplo de uso:\nalunos_notas = [('Alice', 8.5), ('Bob', 7.2), ('Charlie', 9.0), ('David', 8.8)]\nresultado = ordenar_tuplas(alunos_notas)\nprint(resultado)\n# Saída esperada: [('Charlie', 9.0), ('David', 8.8), ('Alice', 8.5), ('Bob', 7.2)]",
      "metadata": {},
      "outputs": [],
      "execution_count": null
    },
    {
      "id": "e0268fae",
      "cell_type": "markdown",
      "source": "### Q4.\n\nEscreva uma função em Python chamada ```comprimir_tuplas``` que recebe uma lista de tuplas, cada uma contendo uma palavra e um número, e retorna uma nova lista de tuplas onde palavras idênticas são agrupadas e seus números são somados.\n\n",
      "metadata": {}
    },
    {
      "id": "30a221f3",
      "cell_type": "code",
      "source": "def comprimir_tuplas(lista):\n    # Dicionário para armazenar a soma dos números para cada palavra\n    contador = {}\n    \n    # Itera sobre a lista de tuplas\n    for palavra, numero in lista:\n        if palavra in contador:\n            contador[palavra] += numero\n        else:\n            contador[palavra] = numero\n            \n    # Converte o dicionário de volta para uma lista de tuplas\n    lista_comprimida = list(contador.items())\n    return lista_comprimida\n\n# Exemplo de uso\ntuplas_originais = [('maçã', 3), ('banana', 2), ('maçã', 5), ('laranja', 1), ('banana', 3)]\nresultado = comprimir_tuplas(tuplas_originais)\nprint(resultado)\n# Saída esperada: [('maçã', 8), ('banana', 5), ('laranja', 1)]\n",
      "metadata": {},
      "outputs": [],
      "execution_count": null
    },
    {
      "id": "80972bac",
      "cell_type": "code",
      "source": "# Exemplo de uso:\ntuplas_originais = [('maçã', 3), ('banana', 2), ('maçã', 5), ('laranja', 1), ('banana', 3)]\nresultado = comprimir_tuplas(tuplas_originais)\nprint(resultado)\n# Saída esperada: [('maçã', 8), ('banana', 5), ('laranja', 1)]",
      "metadata": {},
      "outputs": [],
      "execution_count": null
    },
    {
      "id": "649a5082",
      "cell_type": "markdown",
      "source": "### Q5. \n\n- Escreva um script que peça o nome e a idade de todos na fila de uma balada. Crie uma lista de tuplas com os pares ```(nome, idade)``` de cada um. \n- Em seguida crie e imprima duas tuplas apenas com os nomes, uma com os menores de idade que não poderão entrar, e uma com os maiores de idade (```idade >= 18```). \n\n",
      "metadata": {}
    },
    {
      "id": "47cb0573",
      "cell_type": "code",
      "source": "# Lista para armazenar os dados\nfila = []\n\n# Função para adicionar pessoas à fila\ndef adicionar_pessoa():\n    while True:\n        nome = input(\"Digite o nome da pessoa (ou 'fim' para encerrar): \")\n        if nome.lower() == 'fim':\n            break\n        idade = int(input(f\"Digite a idade de {nome}: \"))\n        fila.append((nome, idade))\n\n# Adiciona pessoas à fila\nadicionar_pessoa()\n\n# Cria listas para armazenar nomes dos menores e maiores de idade\nmenores_idade = []\nmaiores_idade = []\n\n# Processa a fila para separar menores e maiores de idade\nfor nome, idade in fila:\n    if idade >= 18:\n        maiores_idade.append(nome)\n    else:\n        menores_idade.append(nome)\n\n# Cria tuplas com os nomes\ntupla_menores = tuple(menores_idade)\ntupla_maiores = tuple(maiores_idade)\n\n# Imprime as tuplas\nprint(\"Nomes dos menores de idade que não poderão entrar:\", tupla_menores)\nprint(\"Nomes dos maiores de idade que poderão entrar:\", tupla_maiores)\n",
      "metadata": {},
      "outputs": [],
      "execution_count": null
    }
  ]
}