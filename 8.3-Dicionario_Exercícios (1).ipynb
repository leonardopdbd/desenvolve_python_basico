{
  "metadata": {
    "kernelspec": {
      "name": "python",
      "display_name": "Python (Pyodide)",
      "language": "python"
    },
    "language_info": {
      "codemirror_mode": {
        "name": "python",
        "version": 3
      },
      "file_extension": ".py",
      "mimetype": "text/x-python",
      "name": "python",
      "nbconvert_exporter": "python",
      "pygments_lexer": "ipython3",
      "version": "3.8"
    }
  },
  "nbformat_minor": 5,
  "nbformat": 4,
  "cells": [
    {
      "id": "0d5035b5",
      "cell_type": "markdown",
      "source": "# Dicionários\n\n## Aula 8.3",
      "metadata": {}
    },
    {
      "id": "0bdece85",
      "cell_type": "markdown",
      "source": "### Q1. \n\nEscreva uma função em Python chamada ```contagem_caracteres``` que recebe uma string como parâmetro e retorna um dicionário onde as chaves são os caracteres presentes na string e os valores são a contagem de cada caractere.\n",
      "metadata": {}
    },
    {
      "id": "09a9845d",
      "cell_type": "code",
      "source": "def contagem_caracteres(s):\n    contagem = {}\n    for caractere in s:\n        if caractere in contagem:\n            contagem[caractere] += 1\n        else:\n            contagem[caractere] = 1\n    return contagem\n\n# Exemplo de uso\nfrase = \"python programming\"\nresultado = contagem_caracteres(frase)\nprint(resultado)\n",
      "metadata": {},
      "outputs": [],
      "execution_count": null
    },
    {
      "id": "0a258eba",
      "cell_type": "code",
      "source": "# Exemplo de uso:\nfrase = \"python programming\"\nresultado = contagem_caracteres(frase)\nprint(resultado)",
      "metadata": {},
      "outputs": [],
      "execution_count": null
    },
    {
      "id": "649a5082",
      "cell_type": "markdown",
      "source": "### Q2. \n\nBaixe o arquivo contendo o roteiro do filme brasileiro \"Estômago\" e salve em seu computador com o nome \"estomago.txt\".\n\nhttps://aplauso.imprensaoficial.com.br/edicoes/12.0.813.502/12.0.813.502.txt\n\n- Escreva um script python que abre o arquivo de texto e cria um dicionário contando a quantidade de vezes que cada palavra aparece no texto.\n- Em seguida ordene o dicionário de forma decrescente pelos valores. Dessa maneira ele irá apresentar as palavras mais frequentes no início.\n- Apresente na tela o dicionário ordenado\n",
      "metadata": {}
    },
    {
      "id": "47cb0573",
      "cell_type": "code",
      "source": "def contagem_palavras(arquivo):\n    with open(arquivo, \"r\", encoding=\"utf-8\") as file:\n        texto = file.read().lower()  # Converte o texto para minúsculas\n    \n    palavras = texto.split()  # Divide o texto em palavras\n    contagem = {}\n    \n    for palavra in palavras:\n        # Remove pontuação das palavras\n        palavra = ''.join(caractere for caractere in palavra if caractere.isalnum())\n        if palavra in contagem:\n            contagem[palavra] += 1\n        else:\n            contagem[palavra] = 1\n    \n    # Ordena o dicionário por valor (contagem) em ordem decrescente\n    contagem_ordenada = dict(sorted(contagem.items(), key=lambda item: item[1], reverse=True))\n    \n    return contagem_ordenada\n\n# Exemplo de uso\nresultado = contagem_palavras(\"estomago.txt\")\nprint(resultado)\n",
      "metadata": {},
      "outputs": [],
      "execution_count": null
    },
    {
      "id": "bb62d219",
      "cell_type": "markdown",
      "source": "### Q3. \n\nCrie uma função chamada ```mesclar_dicionarios``` que recebe dois dicionários como parâmetros e retorna um novo dicionário contendo a fusão dos dois. Se houver chaves comuns, o maior valor deve prevalecer.",
      "metadata": {}
    },
    {
      "id": "f4363612",
      "cell_type": "code",
      "source": "def mesclar_dicionarios(dict1, dict2):\n    # Cria uma cópia do primeiro dicionário para começar o resultado\n    resultado = dict1.copy()\n    \n    # Percorre o segundo dicionário\n    for chave, valor in dict2.items():\n        if chave in resultado:\n            # Se a chave já existe, usa o maior valor\n            resultado[chave] = max(resultado[chave], valor)\n        else:\n            # Se a chave não existe, adiciona ao resultado\n            resultado[chave] = valor\n    \n    return resultado\n\n# Exemplo de uso\ndicionario1 = {'a': 1, 'b': 2, 'c': 3}\ndicionario2 = {'b': 4, 'd': 5}\nresultado = mesclar_dicionarios(dicionario1, dicionario2)\nprint(resultado)\n# Saída esperada: {'a': 1, 'b': 4, 'c': 3, 'd': 5}\n",
      "metadata": {},
      "outputs": [],
      "execution_count": null
    },
    {
      "id": "add41556",
      "cell_type": "code",
      "source": "# Exemplo de uso:\ndicionario1 = {'a': 1, 'b': 2, 'c': 3}\ndicionario2 = {'b': 4, 'd': 5}\nresultado = mesclar_dicionarios(dicionario1, dicionario2)\nprint(resultado)\n# Saída esperada: {'a': 1, 'b': 4, 'c': 3, 'd': 5}",
      "metadata": {},
      "outputs": [],
      "execution_count": null
    },
    {
      "id": "8710b1a7",
      "cell_type": "markdown",
      "source": "### Q4.\n\nDesenvolva uma função em Python chamada ```filtrar_dicionario``` que recebe um dicionário e uma lista de chaves como parâmetros e retorna um novo dicionário contendo apenas as chaves que estão presentes na lista.",
      "metadata": {}
    },
    {
      "id": "0b7ee921",
      "cell_type": "code",
      "source": "def filtrar_dicionario(dicionario, lista_chaves):\n    # Usa compreensão de dicionário para filtrar as chaves desejadas\n    dicionario_filtrado = {chave: dicionario[chave] for chave in lista_chaves if chave in dicionario}\n    return dicionario_filtrado\n\n# Exemplo de uso\ndados = {'a': 1, 'b': 2, 'c': 3, 'd': 4, 'e': 5}\nchaves_filtradas = ['a', 'c', 'e']\nresultado = filtrar_dicionario(dados, chaves_filtradas)\nprint(resultado)\n# Saída esperada: {'a': 1, 'c': 3, 'e': 5}\n",
      "metadata": {},
      "outputs": [],
      "execution_count": null
    },
    {
      "id": "ebc131f6",
      "cell_type": "code",
      "source": "# Exemplo de uso:\ndados = {'a': 1, 'b': 2, 'c': 3, 'd': 4, 'e': 5}\nchaves_filtradas = ['a', 'c', 'e']\nresultado = filtrar_dicionario(dados, chaves_filtradas)\nprint(resultado)\n# Saída esperada: {'a': 1, 'c': 3, 'e': 5}",
      "metadata": {},
      "outputs": [],
      "execution_count": null
    },
    {
      "id": "3203c51e",
      "cell_type": "markdown",
      "source": "### Q5.\n\nVocê está responsável por analisar os resultados de uma votação. Cada voto é representado por um dicionário com o nome do candidato e a quantidade de votos que recebeu em uma determinada sessão eleitoral. Escreva uma função chamada ```resultado_votacao``` que recebe uma lista de dicionários de votos e retorna um dicionário onde as chaves são os nomes dos candidatos, e os valores são tuplas ```(total, percentual)``` com o total de votos recebidos por cada candidato e o percentual em relação à soma total de votos em todos os candidatos. ",
      "metadata": {}
    },
    {
      "id": "2c856eee",
      "cell_type": "code",
      "source": "def resultado_votacao(votos):\n    # Inicializa um dicionário para armazenar a contagem total de votos por candidato\n    total_votos_candidatos = {}\n    total_votos = 0\n\n    # Soma os votos de cada candidato e o total de votos\n    for sessao in votos:\n        for candidato, votos_candidato in sessao.items():\n            if candidato in total_votos_candidatos:\n                total_votos_candidatos[candidato] += votos_candidato\n            else:\n                total_votos_candidatos[candidato] = votos_candidato\n            total_votos += votos_candidato\n\n    # Cria um novo dicionário para armazenar o resultado com total de votos e percentual\n    resultado = {}\n    for candidato, total in total_votos_candidatos.items():\n        percentual = (total / total_votos) * 100\n        resultado[candidato] = (total, round(percentual, 2))\n\n    return resultado\n\n# Exemplo de uso\nvotos = [\n    {'candidato_A': 120, 'candidato_B': 85, 'candidato_C': 90},\n    {'candidato_A': 110, 'candidato_B': 95, 'candidato_C': 80},\n    {'candidato_A': 130, 'candidato_B': 78, 'candidato_C': 105},\n]\nresultado = resultado_votacao(votos)\nprint(resultado)\n# Saída esperada: {'candidato_A': (360, 41.96), 'candidato_B': (258, 30.06), 'candidato_C': (275, 32.02)}\n",
      "metadata": {},
      "outputs": [],
      "execution_count": null
    },
    {
      "id": "ff2044de",
      "cell_type": "code",
      "source": "# Exemplo de uso:\nvotos = [\n    {'candidato_A': 120, 'candidato_B': 85, 'candidato_C': 90},\n    {'candidato_A': 110, 'candidato_B': 95, 'candidato_C': 80},\n    {'candidato_A': 130, 'candidato_B': 78, 'candidato_C': 105},\n]\nresultado = resultado_votacao(votos)\nprint(resultado)  # Saída esperada: {'candidato_A': (360, 40.31), 'candidato_B': (258, 28.89), \n                                ###  'candidato_C': (275, 30.79)}",
      "metadata": {},
      "outputs": [],
      "execution_count": null
    }
  ]
}